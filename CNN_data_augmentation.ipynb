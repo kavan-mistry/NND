{
 "cells": [
  {
   "cell_type": "code",
   "execution_count": 1,
   "id": "9b37a38b",
   "metadata": {},
   "outputs": [
    {
     "name": "stderr",
     "output_type": "stream",
     "text": [
      "C:\\Users\\kavan\\AppData\\Local\\Temp\\ipykernel_9664\\264531854.py:2: DeprecationWarning: \n",
      "Pyarrow will become a required dependency of pandas in the next major release of pandas (pandas 3.0),\n",
      "(to allow more performant data types, such as the Arrow string type, and better interoperability with other libraries)\n",
      "but was not found to be installed on your system.\n",
      "If this would cause problems for you,\n",
      "please provide us feedback at https://github.com/pandas-dev/pandas/issues/54466\n",
      "        \n",
      "  import pandas as pd\n"
     ]
    }
   ],
   "source": [
    "import numpy as np\n",
    "import pandas as pd\n",
    "import tensorflow as tf"
   ]
  },
  {
   "cell_type": "code",
   "execution_count": 2,
   "id": "1fb8c277",
   "metadata": {},
   "outputs": [
    {
     "name": "stdout",
     "output_type": "stream",
     "text": [
      "[PhysicalDevice(name='/physical_device:CPU:0', device_type='CPU'), PhysicalDevice(name='/physical_device:GPU:0', device_type='GPU')]\n"
     ]
    }
   ],
   "source": [
    "print(tf.config.list_physical_devices())"
   ]
  },
  {
   "cell_type": "code",
   "execution_count": 3,
   "id": "609bfd86",
   "metadata": {},
   "outputs": [],
   "source": [
    "gpus = tf.config.list_physical_devices(\"GPU\")"
   ]
  },
  {
   "cell_type": "code",
   "execution_count": 4,
   "id": "6312ae5c",
   "metadata": {},
   "outputs": [
    {
     "name": "stdout",
     "output_type": "stream",
     "text": [
      "Found a GPU with the name: PhysicalDevice(name='/physical_device:GPU:0', device_type='GPU')\n"
     ]
    }
   ],
   "source": [
    "if gpus:\n",
    "    for gpu in gpus:\n",
    "        print(\"Found a GPU with the name:\", gpu)\n",
    "else:\n",
    "    print(\"Failed to detect a GPU.\")"
   ]
  },
  {
   "cell_type": "code",
   "execution_count": 5,
   "id": "86e4a19b",
   "metadata": {},
   "outputs": [],
   "source": [
    "from keras.preprocessing.image import ImageDataGenerator\n",
    "from keras.models import Sequential\n",
    "from keras.layers import Conv2D, MaxPooling2D, Flatten, Dense\n",
    "from keras.optimizers import Adam"
   ]
  },
  {
   "cell_type": "code",
   "execution_count": 6,
   "id": "feb07e6a",
   "metadata": {},
   "outputs": [],
   "source": [
    "dataset = \"D:\\data set\\pizza\\pizza_not_pizza\""
   ]
  },
  {
   "cell_type": "code",
   "execution_count": 18,
   "id": "7d213750-ac80-4a35-bfa3-559a32029ce2",
   "metadata": {},
   "outputs": [],
   "source": [
    "from sklearn.model_selection import train_test_split"
   ]
  },
  {
   "cell_type": "code",
   "execution_count": null,
   "id": "a397a913-e359-440c-bb84-f47da67a988f",
   "metadata": {},
   "outputs": [],
   "source": []
  },
  {
   "cell_type": "code",
   "execution_count": null,
   "id": "d5e5b859-d0f6-45a5-b64e-f2d1298e24e0",
   "metadata": {},
   "outputs": [],
   "source": []
  },
  {
   "cell_type": "code",
   "execution_count": 7,
   "id": "c05a6918",
   "metadata": {},
   "outputs": [],
   "source": [
    "datagen = ImageDataGenerator(\n",
    "    rotation_range=30,\n",
    "    width_shift_range=0.2,\n",
    "    height_shift_range=0.2,\n",
    "    zoom_range=0.2,\n",
    "    horizontal_flip=True,\n",
    "    vertical_flip=True,\n",
    "    brightness_range=[0.4, 1.5]\n",
    ")"
   ]
  },
  {
   "cell_type": "code",
   "execution_count": 8,
   "id": "1d006764",
   "metadata": {},
   "outputs": [],
   "source": [
    "model = Sequential()"
   ]
  },
  {
   "cell_type": "code",
   "execution_count": 9,
   "id": "25574be7",
   "metadata": {},
   "outputs": [],
   "source": [
    "# Add convolutional layers\n",
    "model.add(Conv2D(32, (3, 3), activation='relu', input_shape=(244, 244, 3)))\n",
    "model.add(MaxPooling2D(pool_size=(2, 2)))\n",
    "\n",
    "model.add(Conv2D(64, (3, 3), activation='relu'))\n",
    "model.add(MaxPooling2D(pool_size=(2, 2)))\n",
    "\n",
    "model.add(Conv2D(128, (3, 3), activation='relu'))\n",
    "model.add(MaxPooling2D(pool_size=(2, 2)))\n",
    "\n",
    "# Flatten the feature maps\n",
    "model.add(Flatten())"
   ]
  },
  {
   "cell_type": "code",
   "execution_count": 10,
   "id": "d75166e4",
   "metadata": {},
   "outputs": [],
   "source": [
    "# Add fully connected layers\n",
    "model.add(Dense(128, activation='relu'))\n",
    "model.add(Dense(2, activation='softmax'))  # Adjust the number of neurons based on your problem (e.g., binary or multi-class)"
   ]
  },
  {
   "cell_type": "code",
   "execution_count": 11,
   "id": "91c0e6a7",
   "metadata": {},
   "outputs": [],
   "source": [
    "# Compile the model\n",
    "model.compile(optimizer=Adam(learning_rate=0.001), loss='categorical_crossentropy', metrics=['accuracy'])"
   ]
  },
  {
   "cell_type": "code",
   "execution_count": 12,
   "id": "95159a1c",
   "metadata": {},
   "outputs": [
    {
     "name": "stdout",
     "output_type": "stream",
     "text": [
      "Found 1966 images belonging to 2 classes.\n"
     ]
    }
   ],
   "source": [
    "batch_size = 32\n",
    "generator = datagen.flow_from_directory(\n",
    "    dataset,\n",
    "    target_size=(244, 244),\n",
    "    batch_size=batch_size,\n",
    "    class_mode='categorical'  # Adjust based on your problem (e.g., 'binary' or 'categorical')\n",
    ")"
   ]
  },
  {
   "cell_type": "code",
   "execution_count": 13,
   "id": "99543ff1-1158-4e66-bd55-31d09157f9d4",
   "metadata": {},
   "outputs": [],
   "source": [
    "import scipy"
   ]
  },
  {
   "cell_type": "code",
   "execution_count": 25,
   "id": "cebfb564",
   "metadata": {},
   "outputs": [
    {
     "name": "stdout",
     "output_type": "stream",
     "text": [
      "Epoch 1/10\n",
      "62/62 [==============================] - 45s 725ms/step - loss: 0.6943 - accuracy: 0.5005\n",
      "Epoch 2/10\n",
      "62/62 [==============================] - 47s 757ms/step - loss: 0.6915 - accuracy: 0.5097\n",
      "Epoch 3/10\n",
      "62/62 [==============================] - 46s 743ms/step - loss: 0.6923 - accuracy: 0.5097\n",
      "Epoch 4/10\n",
      "62/62 [==============================] - 46s 736ms/step - loss: 0.6939 - accuracy: 0.5010\n",
      "Epoch 5/10\n",
      "62/62 [==============================] - 45s 723ms/step - loss: 0.6952 - accuracy: 0.4934\n",
      "Epoch 6/10\n",
      "62/62 [==============================] - 45s 718ms/step - loss: 0.6931 - accuracy: 0.4959\n",
      "Epoch 7/10\n",
      "62/62 [==============================] - 45s 723ms/step - loss: 0.6933 - accuracy: 0.5056\n",
      "Epoch 8/10\n",
      "62/62 [==============================] - 45s 713ms/step - loss: 0.6933 - accuracy: 0.5132\n",
      "Epoch 9/10\n",
      "62/62 [==============================] - 47s 760ms/step - loss: 0.6946 - accuracy: 0.4822\n",
      "Epoch 10/10\n",
      "62/62 [==============================] - 44s 703ms/step - loss: 0.6928 - accuracy: 0.5005\n"
     ]
    }
   ],
   "source": [
    "epochs = 10  # You can adjust the number of epochs\n",
    "history = model.fit(generator, epochs=epochs, steps_per_epoch=len(generator), verbose=1)"
   ]
  },
  {
   "cell_type": "code",
   "execution_count": 15,
   "id": "1164148a",
   "metadata": {},
   "outputs": [],
   "source": [
    "test_data = \"D:\\data set\\pizza\\modified_pizza\""
   ]
  },
  {
   "cell_type": "code",
   "execution_count": 16,
   "id": "50cb11c8",
   "metadata": {},
   "outputs": [
    {
     "name": "stdout",
     "output_type": "stream",
     "text": [
      "Found 0 images belonging to 0 classes.\n"
     ]
    }
   ],
   "source": [
    "test_generator = datagen.flow_from_directory(\n",
    "    test_data,\n",
    "    target_size=(244, 244),\n",
    "    batch_size=batch_size,\n",
    "    class_mode='categorical'  # Adjust based on your problem (e.g., 'binary' or 'categorical')\n",
    ")"
   ]
  },
  {
   "cell_type": "code",
   "execution_count": null,
   "id": "8e3173c9-4921-4d9c-a01c-dda8130ca676",
   "metadata": {},
   "outputs": [],
   "source": []
  }
 ],
 "metadata": {
  "kernelspec": {
   "display_name": "Python 3 (ipykernel)",
   "language": "python",
   "name": "python3"
  },
  "language_info": {
   "codemirror_mode": {
    "name": "ipython",
    "version": 3
   },
   "file_extension": ".py",
   "mimetype": "text/x-python",
   "name": "python",
   "nbconvert_exporter": "python",
   "pygments_lexer": "ipython3",
   "version": "3.10.13"
  }
 },
 "nbformat": 4,
 "nbformat_minor": 5
}
