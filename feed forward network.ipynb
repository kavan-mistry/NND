{
 "cells": [
  {
   "cell_type": "code",
   "execution_count": 1,
   "id": "aa330935",
   "metadata": {},
   "outputs": [],
   "source": [
    "import numpy as np\n",
    "import pandas as pd"
   ]
  },
  {
   "cell_type": "code",
   "execution_count": 2,
   "id": "2f45e7fc",
   "metadata": {},
   "outputs": [],
   "source": [
    "import random as rand"
   ]
  },
  {
   "cell_type": "code",
   "execution_count": 3,
   "id": "0252a40a",
   "metadata": {},
   "outputs": [
    {
     "data": {
      "text/plain": [
       "(3, 1.5, 0.7743484995069823, 0.12929961906126097, 0.5072385209737527)"
      ]
     },
     "execution_count": 3,
     "metadata": {},
     "output_type": "execute_result"
    }
   ],
   "source": [
    "x1 = 3\n",
    "x2 = 1.5\n",
    "\n",
    "w1 = rand.random()\n",
    "w2 = rand.random()\n",
    "b = rand.random()\n",
    "\n",
    "x1,x2,w1,w2,b"
   ]
  },
  {
   "cell_type": "code",
   "execution_count": 4,
   "id": "fd029de7",
   "metadata": {},
   "outputs": [],
   "source": [
    "def sigmoid(x):\n",
    "    return 1 / (1 + np.exp(-x))"
   ]
  },
  {
   "cell_type": "code",
   "execution_count": 5,
   "id": "1daa2788",
   "metadata": {},
   "outputs": [],
   "source": [
    "def ffnn(x1,x2,w1,w2,b):\n",
    "    s = np.dot(x1*w1, x2*w2) + b\n",
    "    out = sigmoid(s)\n",
    "#     print(out)\n",
    "    return out"
   ]
  },
  {
   "cell_type": "code",
   "execution_count": 6,
   "id": "d78b614d",
   "metadata": {},
   "outputs": [
    {
     "data": {
      "text/plain": [
       "0.7226794825664974"
      ]
     },
     "execution_count": 6,
     "metadata": {},
     "output_type": "execute_result"
    }
   ],
   "source": [
    "ffnn(x1,x2,w1,w2,b)"
   ]
  },
  {
   "cell_type": "code",
   "execution_count": 7,
   "id": "8f586a4c",
   "metadata": {},
   "outputs": [
    {
     "data": {
      "text/html": [
       "<div>\n",
       "<style scoped>\n",
       "    .dataframe tbody tr th:only-of-type {\n",
       "        vertical-align: middle;\n",
       "    }\n",
       "\n",
       "    .dataframe tbody tr th {\n",
       "        vertical-align: top;\n",
       "    }\n",
       "\n",
       "    .dataframe thead th {\n",
       "        text-align: right;\n",
       "    }\n",
       "</style>\n",
       "<table border=\"1\" class=\"dataframe\">\n",
       "  <thead>\n",
       "    <tr style=\"text-align: right;\">\n",
       "      <th></th>\n",
       "      <th>Unnamed: 0</th>\n",
       "      <th>red</th>\n",
       "      <th>blue</th>\n",
       "      <th>red.1</th>\n",
       "      <th>blue.1</th>\n",
       "      <th>red.2</th>\n",
       "      <th>blue.2</th>\n",
       "      <th>red.3</th>\n",
       "      <th>Unnamed: 8</th>\n",
       "    </tr>\n",
       "  </thead>\n",
       "  <tbody>\n",
       "    <tr>\n",
       "      <th>0</th>\n",
       "      <td>height</td>\n",
       "      <td>2</td>\n",
       "      <td>4.5</td>\n",
       "      <td>3.5</td>\n",
       "      <td>2</td>\n",
       "      <td>1.5</td>\n",
       "      <td>3.0</td>\n",
       "      <td>2.5</td>\n",
       "      <td>3.5</td>\n",
       "    </tr>\n",
       "    <tr>\n",
       "      <th>1</th>\n",
       "      <td>width</td>\n",
       "      <td>1</td>\n",
       "      <td>1.0</td>\n",
       "      <td>2.0</td>\n",
       "      <td>4</td>\n",
       "      <td>1.0</td>\n",
       "      <td>1.5</td>\n",
       "      <td>1.0</td>\n",
       "      <td>1.0</td>\n",
       "    </tr>\n",
       "  </tbody>\n",
       "</table>\n",
       "</div>"
      ],
      "text/plain": [
       "  Unnamed: 0  red  blue  red.1  blue.1  red.2  blue.2  red.3  Unnamed: 8\n",
       "0     height    2   4.5    3.5       2    1.5     3.0    2.5         3.5\n",
       "1      width    1   1.0    2.0       4    1.0     1.5    1.0         1.0"
      ]
     },
     "execution_count": 7,
     "metadata": {},
     "output_type": "execute_result"
    }
   ],
   "source": [
    "df = pd.read_csv(\"D:\\labs\\data_set\\petal.csv\")\n",
    "df"
   ]
  },
  {
   "cell_type": "code",
   "execution_count": 8,
   "id": "9a94f50a",
   "metadata": {},
   "outputs": [
    {
     "data": {
      "text/plain": [
       "0.7226794825664974"
      ]
     },
     "execution_count": 8,
     "metadata": {},
     "output_type": "execute_result"
    }
   ],
   "source": [
    "y_pred = ffnn(x1,x2,w1,w2,b)\n",
    "y_pred"
   ]
  },
  {
   "cell_type": "code",
   "execution_count": 16,
   "id": "db186b8b",
   "metadata": {},
   "outputs": [],
   "source": [
    "y_true = 0\n",
    "\n",
    "# blue = 0 , red = 1"
   ]
  },
  {
   "cell_type": "code",
   "execution_count": 10,
   "id": "91e693dc",
   "metadata": {},
   "outputs": [],
   "source": [
    "def cross_entropy_loss(y_true, y_pred):\n",
    "    loss = - (y_true * np.log(y_pred) + (1 - y_true) * np.log(1 - y_pred))\n",
    "    return np.mean(loss)"
   ]
  },
  {
   "cell_type": "code",
   "execution_count": 11,
   "id": "6709d806",
   "metadata": {},
   "outputs": [],
   "source": [
    "def sigmoid_derivative(x):\n",
    "    return sigmoid(x) * (1 - sigmoid(x))\n",
    "\n",
    "def compute_gradients(x1, x2, w1, w2, b, y_true):\n",
    "\n",
    "    s = np.dot(x1*w1, x2*w2) + b\n",
    "    y_pred = sigmoid(s)\n",
    "\n",
    "    dz = y_pred - y_true\n",
    "    dw1 = dz * x1 * sigmoid_derivative(x1 * w1)\n",
    "    dw2 = dz * x2 * sigmoid_derivative(x2 * w2)\n",
    "    db = dz * sigmoid_derivative(s)\n",
    "\n",
    "    return dw1, dw2, db"
   ]
  },
  {
   "cell_type": "code",
   "execution_count": 12,
   "id": "1d26c5bd",
   "metadata": {},
   "outputs": [],
   "source": [
    "def update_parameters(w1, w2, b, dw1, dw2, db, learning_rate):\n",
    "    w1 -= learning_rate * dw1\n",
    "    w2 -= learning_rate * dw2\n",
    "    b -= learning_rate * db\n",
    "    return w1, w2, b"
   ]
  },
  {
   "cell_type": "code",
   "execution_count": 13,
   "id": "ac4e2cdd",
   "metadata": {},
   "outputs": [],
   "source": [
    "def train(x1, x2, w1, w2, b, y_true, learning_rate, epochs):\n",
    "    for epoch in range(epochs):\n",
    "        dw1, dw2, db = compute_gradients(x1, x2, w1, w2, b, y_true)\n",
    "        w1, w2, b = update_parameters(w1, w2, b, dw1, dw2, db, learning_rate)\n",
    "\n",
    "        if epoch % 100 == 0:\n",
    "            loss = cross_entropy_loss(y_true, ffnn(x1, x2, w1, w2, b))\n",
    "            print(f'Epoch {epoch}, Loss: {loss}')\n",
    "\n",
    "    return w1, w2, b\n"
   ]
  },
  {
   "cell_type": "code",
   "execution_count": 14,
   "id": "573f09f8",
   "metadata": {},
   "outputs": [
    {
     "name": "stdout",
     "output_type": "stream",
     "text": [
      "Epoch 0, Loss: 1.274062402352824\n",
      "Epoch 100, Loss: 0.739671173306519\n",
      "Epoch 200, Loss: 0.5911090555513315\n",
      "Epoch 300, Loss: 0.695079044853887\n",
      "Epoch 400, Loss: 1.3063112494704323\n",
      "Epoch 500, Loss: 2.682558308685967\n",
      "Epoch 600, Loss: 4.336397987848994\n",
      "Epoch 700, Loss: 5.881364845088594\n",
      "Epoch 800, Loss: 7.25916848142442\n",
      "Epoch 900, Loss: 8.488900873131763\n"
     ]
    },
    {
     "data": {
      "text/plain": [
       "(-1.2979725149644856, -1.6676386730166204, -0.15505223820866634)"
      ]
     },
     "execution_count": 14,
     "metadata": {},
     "output_type": "execute_result"
    }
   ],
   "source": [
    "w1, w2, b = train(x1, x2, w1, w2, b, y_true, learning_rate=0.01, epochs=1000)\n",
    "w1, w2, b"
   ]
  },
  {
   "cell_type": "code",
   "execution_count": 15,
   "id": "64c935b5",
   "metadata": {},
   "outputs": [
    {
     "data": {
      "text/plain": [
       "0.9999312811980383"
      ]
     },
     "execution_count": 15,
     "metadata": {},
     "output_type": "execute_result"
    }
   ],
   "source": [
    "ffnn(x1,x2,w1,w2,b)"
   ]
  }
 ],
 "metadata": {
  "kernelspec": {
   "display_name": "Python 3 (ipykernel)",
   "language": "python",
   "name": "python3"
  },
  "language_info": {
   "codemirror_mode": {
    "name": "ipython",
    "version": 3
   },
   "file_extension": ".py",
   "mimetype": "text/x-python",
   "name": "python",
   "nbconvert_exporter": "python",
   "pygments_lexer": "ipython3",
   "version": "3.11.5"
  }
 },
 "nbformat": 4,
 "nbformat_minor": 5
}
