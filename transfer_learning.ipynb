{
 "cells": [
  {
   "cell_type": "code",
   "execution_count": 1,
   "id": "13f5f24e-15dc-433f-a8d8-5532392e4ea3",
   "metadata": {},
   "outputs": [
    {
     "name": "stderr",
     "output_type": "stream",
     "text": [
      "C:\\Users\\kavan\\AppData\\Local\\Temp\\ipykernel_14164\\2080034654.py:2: DeprecationWarning: \n",
      "Pyarrow will become a required dependency of pandas in the next major release of pandas (pandas 3.0),\n",
      "(to allow more performant data types, such as the Arrow string type, and better interoperability with other libraries)\n",
      "but was not found to be installed on your system.\n",
      "If this would cause problems for you,\n",
      "please provide us feedback at https://github.com/pandas-dev/pandas/issues/54466\n",
      "        \n",
      "  import pandas as pd\n"
     ]
    }
   ],
   "source": [
    "import numpy as np\n",
    "import pandas as pd\n",
    "import matplotlib.pyplot as plt"
   ]
  },
  {
   "cell_type": "code",
   "execution_count": 2,
   "id": "42d3297c-e335-419a-bf70-5d8a6364f675",
   "metadata": {},
   "outputs": [],
   "source": [
    "import sklearn.metrics as metrics\n",
    "import tensorflow as tf"
   ]
  },
  {
   "cell_type": "code",
   "execution_count": 3,
   "id": "1ff67aea-1e51-40dd-a8ce-65d692804776",
   "metadata": {},
   "outputs": [],
   "source": [
    "from keras.preprocessing.image import ImageDataGenerator\n",
    "from tensorflow.keras.models import Model\n",
    "from tensorflow.keras.layers import Flatten, Dense\n",
    "from tensorflow.keras.applications import VGG16"
   ]
  },
  {
   "cell_type": "code",
   "execution_count": 13,
   "id": "2e96acb5-98ab-4cad-a39f-55d69040485c",
   "metadata": {},
   "outputs": [],
   "source": [
    "num_classes=2\n",
    "IMAGE_SHAPE = [224, 224]\n",
    "batch_size=32\n",
    "epochs = 20"
   ]
  },
  {
   "cell_type": "code",
   "execution_count": 14,
   "id": "8ca5101e-d055-43f0-b350-105bbf895fe6",
   "metadata": {},
   "outputs": [],
   "source": [
    "vgg = VGG16(input_shape = (224,224,3), weights = 'imagenet', include_top = False)"
   ]
  },
  {
   "cell_type": "code",
   "execution_count": 15,
   "id": "547efe52-7269-4994-b759-a142e3d21074",
   "metadata": {},
   "outputs": [],
   "source": [
    "for layer in vgg.layers:\n",
    " layer.trainable = False\n",
    "x = Flatten()(vgg.output)\n",
    "x = Dense(128, activation = 'relu')(x) \n",
    "x = Dense(64, activation = 'relu')(x) \n",
    "x = Dense(num_classes, activation = 'softmax')(x) \n",
    "model = Model(inputs = vgg.input, outputs = x)\n",
    "model.compile(loss='categorical_crossentropy', optimizer='adam', metrics=['accuracy'])"
   ]
  },
  {
   "cell_type": "code",
   "execution_count": 16,
   "id": "4824135c-7b88-4a9c-b1d1-7f8e4dc277a3",
   "metadata": {},
   "outputs": [
    {
     "name": "stdout",
     "output_type": "stream",
     "text": [
      "Found 1006 images belonging to 1 classes.\n",
      "Found 2023 images belonging to 1 classes.\n"
     ]
    }
   ],
   "source": [
    "trdata = ImageDataGenerator()\n",
    "train_data_gen = trdata.flow_from_directory(directory=\"D:/data set/cat-dog/training_set_half\",\n",
    "                                            target_size=(224,224), \n",
    "                                            shuffle=False, \n",
    "                                            class_mode='categorical')\n",
    "tsdata = ImageDataGenerator()\n",
    "test_data_gen = tsdata.flow_from_directory(directory=\"D:/data set/cat-dog/test_set_half\", \n",
    "                                           target_size=(224,224),\n",
    "                                           shuffle=False, \n",
    "                                           class_mode='categorical')"
   ]
  },
  {
   "cell_type": "code",
   "execution_count": 17,
   "id": "e0d22b63-33ad-421a-a115-5766b7c3cf39",
   "metadata": {},
   "outputs": [
    {
     "name": "stdout",
     "output_type": "stream",
     "text": [
      "Epoch 1/20\n"
     ]
    },
    {
     "name": "stderr",
     "output_type": "stream",
     "text": [
      "C:\\Users\\kavan\\AppData\\Local\\Temp\\ipykernel_14164\\3184133792.py:3: UserWarning: `Model.fit_generator` is deprecated and will be removed in a future version. Please use `Model.fit`, which supports generators.\n",
      "  model.fit_generator(train_data_gen, steps_per_epoch = training_steps_per_epoch,\n"
     ]
    },
    {
     "name": "stdout",
     "output_type": "stream",
     "text": [
      "32/32 [==============================] - 12s 331ms/step - loss: 43.3304 - accuracy: 0.5328 - val_loss: 139.8445 - val_accuracy: 0.0000e+00\n",
      "Epoch 2/20\n",
      "32/32 [==============================] - 10s 305ms/step - loss: 209.1356 - accuracy: 0.4831 - val_loss: 97.8486 - val_accuracy: 0.9259\n",
      "Epoch 3/20\n",
      "32/32 [==============================] - 10s 317ms/step - loss: 475.4338 - accuracy: 0.5378 - val_loss: 91.0129 - val_accuracy: 0.7088\n",
      "Epoch 4/20\n",
      "32/32 [==============================] - 10s 309ms/step - loss: 801.0669 - accuracy: 0.5089 - val_loss: 690.2760 - val_accuracy: 1.0000\n",
      "Epoch 5/20\n",
      "32/32 [==============================] - 10s 309ms/step - loss: 2121.2607 - accuracy: 0.5567 - val_loss: 2464.9382 - val_accuracy: 0.0000e+00\n",
      "Epoch 6/20\n",
      "32/32 [==============================] - 10s 314ms/step - loss: 2820.9712 - accuracy: 0.4781 - val_loss: 648.2911 - val_accuracy: 0.9936\n",
      "Epoch 7/20\n",
      "32/32 [==============================] - 10s 315ms/step - loss: 3556.9736 - accuracy: 0.5308 - val_loss: 11782.1416 - val_accuracy: 1.0000\n",
      "Epoch 8/20\n",
      "32/32 [==============================] - 10s 310ms/step - loss: 11960.7305 - accuracy: 0.5408 - val_loss: 1282.5842 - val_accuracy: 0.0000e+00\n",
      "Epoch 9/20\n",
      "32/32 [==============================] - 9s 297ms/step - loss: 13120.4355 - accuracy: 0.5567 - val_loss: 42559.2109 - val_accuracy: 0.0000e+00\n",
      "Epoch 10/20\n",
      "32/32 [==============================] - 10s 305ms/step - loss: 19262.0957 - accuracy: 0.5229 - val_loss: 19860.5840 - val_accuracy: 0.0000e+00\n",
      "Epoch 11/20\n",
      "32/32 [==============================] - 10s 305ms/step - loss: 18434.3477 - accuracy: 0.4592 - val_loss: 21050.5098 - val_accuracy: 1.0000\n",
      "Epoch 12/20\n",
      "32/32 [==============================] - 9s 300ms/step - loss: 14161.8379 - accuracy: 0.5229 - val_loss: 3760.0078 - val_accuracy: 1.0000\n",
      "Epoch 13/20\n",
      "32/32 [==============================] - 9s 300ms/step - loss: 13475.1133 - accuracy: 0.5139 - val_loss: 1445.0352 - val_accuracy: 1.0000\n",
      "Epoch 14/20\n",
      "32/32 [==============================] - 10s 305ms/step - loss: 21122.4883 - accuracy: 0.5229 - val_loss: 20895.7305 - val_accuracy: 0.0000e+00\n",
      "Epoch 15/20\n",
      "32/32 [==============================] - 9s 300ms/step - loss: 21195.7266 - accuracy: 0.4901 - val_loss: 13140.5527 - val_accuracy: 1.0000\n",
      "Epoch 16/20\n",
      "32/32 [==============================] - 10s 307ms/step - loss: 28877.7168 - accuracy: 0.5229 - val_loss: 114139.7422 - val_accuracy: 0.0000e+00\n",
      "Epoch 17/20\n",
      "32/32 [==============================] - 10s 308ms/step - loss: 52220.2734 - accuracy: 0.4771 - val_loss: 27296.8145 - val_accuracy: 1.0000\n",
      "Epoch 18/20\n",
      "32/32 [==============================] - 10s 315ms/step - loss: 67956.8125 - accuracy: 0.5547 - val_loss: 6533.8843 - val_accuracy: 0.0000e+00\n",
      "Epoch 19/20\n",
      "32/32 [==============================] - 10s 317ms/step - loss: 37761.3281 - accuracy: 0.4911 - val_loss: 47229.1211 - val_accuracy: 0.0000e+00\n",
      "Epoch 20/20\n",
      "32/32 [==============================] - 10s 319ms/step - loss: 72926.7188 - accuracy: 0.4781 - val_loss: 21219.2109 - val_accuracy: 1.0000\n",
      "Training Completed!\n"
     ]
    }
   ],
   "source": [
    "training_steps_per_epoch = np.ceil(train_data_gen.samples / batch_size)\n",
    "validation_steps_per_epoch = np.ceil(test_data_gen.samples / batch_size)\n",
    "model.fit_generator(train_data_gen, steps_per_epoch = training_steps_per_epoch, \n",
    "                    validation_data=test_data_gen, \n",
    "                    validation_steps=validation_steps_per_epoch,\n",
    "                    epochs=epochs, \n",
    "                    verbose=1)\n",
    "print('Training Completed!')"
   ]
  },
  {
   "cell_type": "code",
   "execution_count": 21,
   "id": "44d3f019-7149-4b43-afd2-c4dd4860bb4c",
   "metadata": {},
   "outputs": [
    {
     "name": "stdout",
     "output_type": "stream",
     "text": [
      "Found 8005 images belonging to 2 classes.\n",
      "Found 2023 images belonging to 2 classes.\n"
     ]
    }
   ],
   "source": [
    "trdata = ImageDataGenerator()\n",
    "train_data_gen = trdata.flow_from_directory(directory=\"D:/data set/cat-dog/training_set/training_set\",\n",
    "                                            target_size=(224,224), \n",
    "                                            shuffle=False, \n",
    "                                            class_mode='categorical')\n",
    "tsdata = ImageDataGenerator()\n",
    "test_data_gen = tsdata.flow_from_directory(directory=\"D:/data set/cat-dog/test_set/test_set\", \n",
    "                                           target_size=(224,224),\n",
    "                                           shuffle=False, \n",
    "                                           class_mode='categorical')"
   ]
  },
  {
   "cell_type": "code",
   "execution_count": 22,
   "id": "34bbf50a-28c0-4be5-9c9c-1a4d0d1b3e2d",
   "metadata": {},
   "outputs": [
    {
     "name": "stdout",
     "output_type": "stream",
     "text": [
      "Epoch 1/20\n"
     ]
    },
    {
     "name": "stderr",
     "output_type": "stream",
     "text": [
      "C:\\Users\\kavan\\AppData\\Local\\Temp\\ipykernel_14164\\3184133792.py:3: UserWarning: `Model.fit_generator` is deprecated and will be removed in a future version. Please use `Model.fit`, which supports generators.\n",
      "  model.fit_generator(train_data_gen, steps_per_epoch = training_steps_per_epoch,\n"
     ]
    },
    {
     "name": "stdout",
     "output_type": "stream",
     "text": [
      "251/251 [==============================] - 31s 124ms/step - loss: 5573517.5000 - accuracy: 0.5043 - val_loss: 19391012.0000 - val_accuracy: 0.4998\n",
      "Epoch 2/20\n",
      "251/251 [==============================] - 31s 124ms/step - loss: 6079226.5000 - accuracy: 0.5083 - val_loss: 7337980.0000 - val_accuracy: 0.4998\n",
      "Epoch 3/20\n",
      "251/251 [==============================] - 31s 124ms/step - loss: 3587463.7500 - accuracy: 0.5636 - val_loss: 8342336.0000 - val_accuracy: 0.4998\n",
      "Epoch 4/20\n",
      "251/251 [==============================] - 31s 123ms/step - loss: 4861487.0000 - accuracy: 0.4997 - val_loss: 125098.5859 - val_accuracy: 0.5002\n",
      "Epoch 5/20\n",
      "251/251 [==============================] - 31s 123ms/step - loss: 4265435.5000 - accuracy: 0.5037 - val_loss: 2560956.7500 - val_accuracy: 0.5002\n",
      "Epoch 6/20\n",
      "251/251 [==============================] - 31s 123ms/step - loss: 2902918.0000 - accuracy: 0.4556 - val_loss: 730879.8750 - val_accuracy: 0.4998\n",
      "Epoch 7/20\n",
      "251/251 [==============================] - 31s 123ms/step - loss: 5633225.5000 - accuracy: 0.4637 - val_loss: 1003799.9375 - val_accuracy: 0.5002\n",
      "Epoch 8/20\n",
      "251/251 [==============================] - 31s 123ms/step - loss: 2702916.2500 - accuracy: 0.5445 - val_loss: 4133249.7500 - val_accuracy: 0.5002\n",
      "Epoch 9/20\n",
      "251/251 [==============================] - 31s 123ms/step - loss: 5466124.0000 - accuracy: 0.4483 - val_loss: 2639194.2500 - val_accuracy: 0.5002\n",
      "Epoch 10/20\n",
      "251/251 [==============================] - 31s 124ms/step - loss: 2935085.5000 - accuracy: 0.4877 - val_loss: 807451.5625 - val_accuracy: 0.5002\n",
      "Epoch 11/20\n",
      "251/251 [==============================] - 31s 123ms/step - loss: 3329100.0000 - accuracy: 0.5243 - val_loss: 1572366.8750 - val_accuracy: 0.4998\n",
      "Epoch 12/20\n",
      "251/251 [==============================] - 31s 123ms/step - loss: 3595086.2500 - accuracy: 0.4957 - val_loss: 11834516.0000 - val_accuracy: 0.4998\n",
      "Epoch 13/20\n",
      "251/251 [==============================] - 31s 123ms/step - loss: 4475191.0000 - accuracy: 0.4717 - val_loss: 4724081.5000 - val_accuracy: 0.5002\n",
      "Epoch 14/20\n",
      "251/251 [==============================] - 31s 123ms/step - loss: 3440577.0000 - accuracy: 0.5323 - val_loss: 6105260.0000 - val_accuracy: 0.4998\n",
      "Epoch 15/20\n",
      "251/251 [==============================] - 31s 124ms/step - loss: 3131803.0000 - accuracy: 0.5199 - val_loss: 3795559.0000 - val_accuracy: 0.5002\n",
      "Epoch 16/20\n",
      "251/251 [==============================] - 31s 123ms/step - loss: 4353829.0000 - accuracy: 0.4317 - val_loss: 2479747.7500 - val_accuracy: 0.5002\n",
      "Epoch 17/20\n",
      "251/251 [==============================] - 31s 123ms/step - loss: 3306750.7500 - accuracy: 0.4843 - val_loss: 2942860.5000 - val_accuracy: 0.4998\n",
      "Epoch 18/20\n",
      "251/251 [==============================] - 31s 123ms/step - loss: 3467842.2500 - accuracy: 0.4797 - val_loss: 568390.8750 - val_accuracy: 0.5002\n",
      "Epoch 19/20\n",
      "251/251 [==============================] - 31s 123ms/step - loss: 3829119.0000 - accuracy: 0.5277 - val_loss: 10693621.0000 - val_accuracy: 0.4998\n",
      "Epoch 20/20\n",
      "251/251 [==============================] - 31s 123ms/step - loss: 3876187.7500 - accuracy: 0.4611 - val_loss: 2998444.5000 - val_accuracy: 0.5002\n",
      "Training Completed!\n"
     ]
    }
   ],
   "source": [
    "training_steps_per_epoch = np.ceil(train_data_gen.samples / batch_size)\n",
    "validation_steps_per_epoch = np.ceil(test_data_gen.samples / batch_size)\n",
    "model.fit_generator(train_data_gen, steps_per_epoch = training_steps_per_epoch, \n",
    "                    validation_data=test_data_gen, \n",
    "                    validation_steps=validation_steps_per_epoch,\n",
    "                    epochs=epochs, \n",
    "                    verbose=1)\n",
    "print('Training Completed!')"
   ]
  },
  {
   "cell_type": "code",
   "execution_count": 23,
   "id": "94ec87d3-05dd-488e-aff6-56e004acbe25",
   "metadata": {},
   "outputs": [
    {
     "name": "stdout",
     "output_type": "stream",
     "text": [
      "64/64 [==============================] - 6s 95ms/step\n",
      "              precision    recall  f1-score   support\n",
      "\n",
      "           0       0.00      0.00      0.00      1011\n",
      "           1       0.50      1.00      0.67      1012\n",
      "\n",
      "    accuracy                           0.50      2023\n",
      "   macro avg       0.25      0.50      0.33      2023\n",
      "weighted avg       0.25      0.50      0.33      2023\n",
      "\n"
     ]
    },
    {
     "name": "stderr",
     "output_type": "stream",
     "text": [
      "D:\\anaconda\\envs\\tf\\lib\\site-packages\\sklearn\\metrics\\_classification.py:1497: UndefinedMetricWarning: Precision is ill-defined and being set to 0.0 in labels with no predicted samples. Use `zero_division` parameter to control this behavior.\n",
      "  _warn_prf(average, modifier, f\"{metric.capitalize()} is\", len(result))\n",
      "D:\\anaconda\\envs\\tf\\lib\\site-packages\\sklearn\\metrics\\_classification.py:1497: UndefinedMetricWarning: Precision is ill-defined and being set to 0.0 in labels with no predicted samples. Use `zero_division` parameter to control this behavior.\n",
      "  _warn_prf(average, modifier, f\"{metric.capitalize()} is\", len(result))\n",
      "D:\\anaconda\\envs\\tf\\lib\\site-packages\\sklearn\\metrics\\_classification.py:1497: UndefinedMetricWarning: Precision is ill-defined and being set to 0.0 in labels with no predicted samples. Use `zero_division` parameter to control this behavior.\n",
      "  _warn_prf(average, modifier, f\"{metric.capitalize()} is\", len(result))\n"
     ]
    }
   ],
   "source": [
    "Y_pred = model.predict(test_data_gen, test_data_gen.samples / batch_size)\n",
    "val_preds = np.argmax(Y_pred, axis=1)\n",
    "import sklearn.metrics as metrics\n",
    "val_trues =test_data_gen.classes\n",
    "from sklearn.metrics import classification_report\n",
    "print(classification_report(val_trues, val_preds))"
   ]
  },
  {
   "cell_type": "code",
   "execution_count": 24,
   "id": "72412709-5868-4033-9916-51af46a14584",
   "metadata": {},
   "outputs": [
    {
     "name": "stdout",
     "output_type": "stream",
     "text": [
      "64/64 [==============================] - 6s 99ms/step\n"
     ]
    },
    {
     "data": {
      "text/plain": [
       "array([[   0, 1011],\n",
       "       [   0, 1012]], dtype=int64)"
      ]
     },
     "execution_count": 24,
     "metadata": {},
     "output_type": "execute_result"
    }
   ],
   "source": [
    "Y_pred = model.predict(test_data_gen, test_data_gen.samples / batch_size)\n",
    "val_preds = np.argmax(Y_pred, axis=1)\n",
    "val_trues =test_data_gen.classes\n",
    "cm = metrics.confusion_matrix(val_trues, val_preds)\n",
    "cm"
   ]
  },
  {
   "cell_type": "code",
   "execution_count": null,
   "id": "6275e4fc-dc1b-4589-95cb-e3862521dfce",
   "metadata": {},
   "outputs": [],
   "source": [
    "# try to create one model like imagenet like own network"
   ]
  }
 ],
 "metadata": {
  "kernelspec": {
   "display_name": "Python 3 (ipykernel)",
   "language": "python",
   "name": "python3"
  },
  "language_info": {
   "codemirror_mode": {
    "name": "ipython",
    "version": 3
   },
   "file_extension": ".py",
   "mimetype": "text/x-python",
   "name": "python",
   "nbconvert_exporter": "python",
   "pygments_lexer": "ipython3",
   "version": "3.10.13"
  }
 },
 "nbformat": 4,
 "nbformat_minor": 5
}
